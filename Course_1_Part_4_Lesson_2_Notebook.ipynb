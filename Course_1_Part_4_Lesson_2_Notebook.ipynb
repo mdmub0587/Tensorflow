{
  "nbformat": 4,
  "nbformat_minor": 0,
  "metadata": {
    "colab": {
      "name": "Course 1 - Part 4 - Lesson 2 - Notebook.ipynb",
      "provenance": [],
      "collapsed_sections": []
    },
    "kernelspec": {
      "name": "python3",
      "display_name": "Python 3"
    }
  },
  "cells": [
    {
      "cell_type": "markdown",
      "metadata": {
        "id": "qnyTxjK_GbOD",
        "colab_type": "text"
      },
      "source": [
        "# Beyond Hello World, A Computer Vision Example\n",
        "In the previous exercise you saw how to create a neural network that figured out the problem you were trying to solve. This gave an explicit example of learned behavior. Of course, in that instance, it was a bit of overkill because it would have been easier to write the function Y=2x-1 directly, instead of bothering with using Machine Learning to learn the relationship between X and Y for a fixed set of values, and extending that for all values.\n",
        "\n",
        "But what about a scenario where writing rules like that is much more difficult -- for example a computer vision problem? Let's take a look at a scenario where we can recognize different items of clothing, trained from a dataset containing 10 different types."
      ]
    },
    {
      "cell_type": "markdown",
      "metadata": {
        "id": "H41FYgtlHPjW",
        "colab_type": "text"
      },
      "source": [
        "## Start Coding\n",
        "\n",
        "Let's start with our import of TensorFlow"
      ]
    },
    {
      "cell_type": "code",
      "metadata": {
        "id": "q3KzJyjv3rnA",
        "colab_type": "code",
        "outputId": "d1be6a74-8c9d-43f5-e7e4-8e9bba5a387f",
        "colab": {
          "base_uri": "https://localhost:8080/",
          "height": 79
        }
      },
      "source": [
        "import tensorflow as tf\n",
        "print(tf.__version__)"
      ],
      "execution_count": 1,
      "outputs": [
        {
          "output_type": "display_data",
          "data": {
            "text/html": [
              "<p style=\"color: red;\">\n",
              "The default version of TensorFlow in Colab will soon switch to TensorFlow 2.x.<br>\n",
              "We recommend you <a href=\"https://www.tensorflow.org/guide/migrate\" target=\"_blank\">upgrade</a> now \n",
              "or ensure your notebook will continue to use TensorFlow 1.x via the <code>%tensorflow_version 1.x</code> magic:\n",
              "<a href=\"https://colab.research.google.com/notebooks/tensorflow_version.ipynb\" target=\"_blank\">more info</a>.</p>\n"
            ],
            "text/plain": [
              "<IPython.core.display.HTML object>"
            ]
          },
          "metadata": {
            "tags": []
          }
        },
        {
          "output_type": "stream",
          "text": [
            "1.15.0\n"
          ],
          "name": "stdout"
        }
      ]
    },
    {
      "cell_type": "markdown",
      "metadata": {
        "id": "n_n1U5do3u_F",
        "colab_type": "text"
      },
      "source": [
        "The Fashion MNIST data is available directly in the tf.keras datasets API. You load it like this:"
      ]
    },
    {
      "cell_type": "code",
      "metadata": {
        "id": "PmxkHFpt31bM",
        "colab_type": "code",
        "colab": {}
      },
      "source": [
        "mnist = tf.keras.datasets.fashion_mnist"
      ],
      "execution_count": 0,
      "outputs": []
    },
    {
      "cell_type": "markdown",
      "metadata": {
        "id": "GuoLQQBT4E-_",
        "colab_type": "text"
      },
      "source": [
        "Calling load_data on this object will give you two sets of two lists, these will be the training and testing values for the graphics that contain the clothing items and their labels.\n"
      ]
    },
    {
      "cell_type": "code",
      "metadata": {
        "id": "BTdRgExe4TRB",
        "colab_type": "code",
        "outputId": "f0fe0786-d2f5-4b17-e786-ee52a2a54fdb",
        "colab": {
          "base_uri": "https://localhost:8080/",
          "height": 151
        }
      },
      "source": [
        "(training_images, training_labels), (test_images, test_labels) = mnist.load_data()"
      ],
      "execution_count": 3,
      "outputs": [
        {
          "output_type": "stream",
          "text": [
            "Downloading data from https://storage.googleapis.com/tensorflow/tf-keras-datasets/train-labels-idx1-ubyte.gz\n",
            "32768/29515 [=================================] - 0s 0us/step\n",
            "Downloading data from https://storage.googleapis.com/tensorflow/tf-keras-datasets/train-images-idx3-ubyte.gz\n",
            "26427392/26421880 [==============================] - 0s 0us/step\n",
            "Downloading data from https://storage.googleapis.com/tensorflow/tf-keras-datasets/t10k-labels-idx1-ubyte.gz\n",
            "8192/5148 [===============================================] - 0s 0us/step\n",
            "Downloading data from https://storage.googleapis.com/tensorflow/tf-keras-datasets/t10k-images-idx3-ubyte.gz\n",
            "4423680/4422102 [==============================] - 0s 0us/step\n"
          ],
          "name": "stdout"
        }
      ]
    },
    {
      "cell_type": "markdown",
      "metadata": {
        "id": "rw395ROx4f5Q",
        "colab_type": "text"
      },
      "source": [
        "What does these values look like? Let's print a training image, and a training label to see...Experiment with different indices in the array. For example, also take a look at index 42...that's a a different boot than the one at index 0\n"
      ]
    },
    {
      "cell_type": "code",
      "metadata": {
        "id": "FPc9d3gJ3jWF",
        "colab_type": "code",
        "outputId": "1a0ef790-ed9f-4b38-c933-06083f170060",
        "colab": {
          "base_uri": "https://localhost:8080/",
          "height": 1000
        }
      },
      "source": [
        "import matplotlib.pyplot as plt\n",
        "plt.imshow(training_images[0])\n",
        "print(training_labels[0])\n",
        "print(training_images[0])"
      ],
      "execution_count": 4,
      "outputs": [
        {
          "output_type": "stream",
          "text": [
            "9\n",
            "[[  0   0   0   0   0   0   0   0   0   0   0   0   0   0   0   0   0   0\n",
            "    0   0   0   0   0   0   0   0   0   0]\n",
            " [  0   0   0   0   0   0   0   0   0   0   0   0   0   0   0   0   0   0\n",
            "    0   0   0   0   0   0   0   0   0   0]\n",
            " [  0   0   0   0   0   0   0   0   0   0   0   0   0   0   0   0   0   0\n",
            "    0   0   0   0   0   0   0   0   0   0]\n",
            " [  0   0   0   0   0   0   0   0   0   0   0   0   1   0   0  13  73   0\n",
            "    0   1   4   0   0   0   0   1   1   0]\n",
            " [  0   0   0   0   0   0   0   0   0   0   0   0   3   0  36 136 127  62\n",
            "   54   0   0   0   1   3   4   0   0   3]\n",
            " [  0   0   0   0   0   0   0   0   0   0   0   0   6   0 102 204 176 134\n",
            "  144 123  23   0   0   0   0  12  10   0]\n",
            " [  0   0   0   0   0   0   0   0   0   0   0   0   0   0 155 236 207 178\n",
            "  107 156 161 109  64  23  77 130  72  15]\n",
            " [  0   0   0   0   0   0   0   0   0   0   0   1   0  69 207 223 218 216\n",
            "  216 163 127 121 122 146 141  88 172  66]\n",
            " [  0   0   0   0   0   0   0   0   0   1   1   1   0 200 232 232 233 229\n",
            "  223 223 215 213 164 127 123 196 229   0]\n",
            " [  0   0   0   0   0   0   0   0   0   0   0   0   0 183 225 216 223 228\n",
            "  235 227 224 222 224 221 223 245 173   0]\n",
            " [  0   0   0   0   0   0   0   0   0   0   0   0   0 193 228 218 213 198\n",
            "  180 212 210 211 213 223 220 243 202   0]\n",
            " [  0   0   0   0   0   0   0   0   0   1   3   0  12 219 220 212 218 192\n",
            "  169 227 208 218 224 212 226 197 209  52]\n",
            " [  0   0   0   0   0   0   0   0   0   0   6   0  99 244 222 220 218 203\n",
            "  198 221 215 213 222 220 245 119 167  56]\n",
            " [  0   0   0   0   0   0   0   0   0   4   0   0  55 236 228 230 228 240\n",
            "  232 213 218 223 234 217 217 209  92   0]\n",
            " [  0   0   1   4   6   7   2   0   0   0   0   0 237 226 217 223 222 219\n",
            "  222 221 216 223 229 215 218 255  77   0]\n",
            " [  0   3   0   0   0   0   0   0   0  62 145 204 228 207 213 221 218 208\n",
            "  211 218 224 223 219 215 224 244 159   0]\n",
            " [  0   0   0   0  18  44  82 107 189 228 220 222 217 226 200 205 211 230\n",
            "  224 234 176 188 250 248 233 238 215   0]\n",
            " [  0  57 187 208 224 221 224 208 204 214 208 209 200 159 245 193 206 223\n",
            "  255 255 221 234 221 211 220 232 246   0]\n",
            " [  3 202 228 224 221 211 211 214 205 205 205 220 240  80 150 255 229 221\n",
            "  188 154 191 210 204 209 222 228 225   0]\n",
            " [ 98 233 198 210 222 229 229 234 249 220 194 215 217 241  65  73 106 117\n",
            "  168 219 221 215 217 223 223 224 229  29]\n",
            " [ 75 204 212 204 193 205 211 225 216 185 197 206 198 213 240 195 227 245\n",
            "  239 223 218 212 209 222 220 221 230  67]\n",
            " [ 48 203 183 194 213 197 185 190 194 192 202 214 219 221 220 236 225 216\n",
            "  199 206 186 181 177 172 181 205 206 115]\n",
            " [  0 122 219 193 179 171 183 196 204 210 213 207 211 210 200 196 194 191\n",
            "  195 191 198 192 176 156 167 177 210  92]\n",
            " [  0   0  74 189 212 191 175 172 175 181 185 188 189 188 193 198 204 209\n",
            "  210 210 211 188 188 194 192 216 170   0]\n",
            " [  2   0   0   0  66 200 222 237 239 242 246 243 244 221 220 193 191 179\n",
            "  182 182 181 176 166 168  99  58   0   0]\n",
            " [  0   0   0   0   0   0   0  40  61  44  72  41  35   0   0   0   0   0\n",
            "    0   0   0   0   0   0   0   0   0   0]\n",
            " [  0   0   0   0   0   0   0   0   0   0   0   0   0   0   0   0   0   0\n",
            "    0   0   0   0   0   0   0   0   0   0]\n",
            " [  0   0   0   0   0   0   0   0   0   0   0   0   0   0   0   0   0   0\n",
            "    0   0   0   0   0   0   0   0   0   0]]\n"
          ],
          "name": "stdout"
        },
        {
          "output_type": "display_data",
          "data": {
            "image/png": "[encoded data removed]",
            "text/plain": [
              "<Figure size 432x288 with 1 Axes>"
            ]
          },
          "metadata": {
            "tags": []
          }
        }
      ]
    },
    {
      "cell_type": "markdown",
      "metadata": {
        "id": "3cbrdH225_nH",
        "colab_type": "text"
      },
      "source": [
        "You'll notice that all of the values in the number are between 0 and 255. If we are training a neural network, for various reasons it's easier if we treat all values as between 0 and 1, a process called '**normalizing**'...and fortunately in Python it's easy to normalize a list like this without looping. You do it like this:"
      ]
    },
    {
      "cell_type": "code",
      "metadata": {
        "id": "kRH19pWs6ZDn",
        "colab_type": "code",
        "colab": {}
      },
      "source": [
        "training_images  = training_images / 255.0\n",
        "test_images = test_images / 255.0"
      ],
      "execution_count": 0,
      "outputs": []
    },
    {
      "cell_type": "markdown",
      "metadata": {
        "id": "3DkO0As46lRn",
        "colab_type": "text"
      },
      "source": [
        "Now you might be wondering why there are 2 sets...training and testing -- remember we spoke about this in the intro? The idea is to have 1 set of data for training, and then another set of data...that the model hasn't yet seen...to see how good it would be at classifying values. After all, when you're done, you're going to want to try it out with data that it hadn't previously seen!"
      ]
    },
    {
      "cell_type": "markdown",
      "metadata": {
        "id": "dIn7S9gf62ie",
        "colab_type": "text"
      },
      "source": [
        "Let's now design the model. There's quite a few new concepts here, but don't worry, you'll get the hang of them. "
      ]
    },
    {
      "cell_type": "code",
      "metadata": {
        "id": "7mAyndG3kVlK",
        "colab_type": "code",
        "colab": {}
      },
      "source": [
        "model = tf.keras.models.Sequential([tf.keras.layers.Flatten(), \n",
        "                                    tf.keras.layers.Dense(128, activation=tf.nn.relu), \n",
        "                                    tf.keras.layers.Dense(10, activation=tf.nn.softmax)])"
      ],
      "execution_count": 0,
      "outputs": []
    },
    {
      "cell_type": "markdown",
      "metadata": {
        "id": "-lUcWaiX7MFj",
        "colab_type": "text"
      },
      "source": [
        "**Sequential**: That defines a SEQUENCE of layers in the neural network\n",
        "\n",
        "**Flatten**: Remember earlier where our images were a square, when you printed them out? Flatten just takes that square and turns it into a 1 dimensional set.\n",
        "\n",
        "**Dense**: Adds a layer of neurons\n",
        "\n",
        "Each layer of neurons need an **activation function** to tell them what to do. There's lots of options, but just use these for now. \n",
        "\n",
        "**Relu** effectively means \"If X>0 return X, else return 0\" -- so what it does it it only passes values 0 or greater to the next layer in the network.\n",
        "\n",
        "**Softmax** takes a set of values, and effectively picks the biggest one, so, for example, if the output of the last layer looks like [0.1, 0.1, 0.05, 0.1, 9.5, 0.1, 0.05, 0.05, 0.05], it saves you from fishing through it looking for the biggest value, and turns it into [0,0,0,0,1,0,0,0,0] -- The goal is to save a lot of coding!\n"
      ]
    },
    {
      "cell_type": "markdown",
      "metadata": {
        "id": "c8vbMCqb9Mh6",
        "colab_type": "text"
      },
      "source": [
        "The next thing to do, now the model is defined, is to actually build it. You do this by compiling it with an optimizer and loss function as before -- and then you train it by calling **model.fit ** asking it to fit your training data to your training labels -- i.e. have it figure out the relationship between the training data and its actual labels, so in future if you have data that looks like the training data, then it can make a prediction for what that data would look like. "
      ]
    },
    {
      "cell_type": "code",
      "metadata": {
        "id": "BLMdl9aP8nQ0",
        "colab_type": "code",
        "outputId": "44815b4b-e42a-4066-8471-bdae9ea2b23d",
        "colab": {
          "base_uri": "https://localhost:8080/",
          "height": 1000
        }
      },
      "source": [
        "model.compile(optimizer = tf.train.AdamOptimizer(),\n",
        "              loss = 'sparse_categorical_crossentropy',\n",
        "              metrics=['accuracy'])\n",
        "\n",
        "model.fit(training_images, training_labels, epochs=100)"
      ],
      "execution_count": 11,
      "outputs": [
        {
          "output_type": "stream",
          "text": [
            "Train on 60000 samples\n",
            "Epoch 1/100\n",
            "60000/60000 [==============================] - 4s 71us/sample - loss: 0.4986 - acc: 0.8252\n",
            "Epoch 2/100\n",
            "60000/60000 [==============================] - 4s 68us/sample - loss: 0.3727 - acc: 0.8665\n",
            "Epoch 3/100\n",
            "60000/60000 [==============================] - 4s 67us/sample - loss: 0.3343 - acc: 0.8778\n",
            "Epoch 4/100\n",
            "60000/60000 [==============================] - 4s 67us/sample - loss: 0.3100 - acc: 0.8854\n",
            "Epoch 5/100\n",
            "60000/60000 [==============================] - 4s 68us/sample - loss: 0.2930 - acc: 0.8918\n",
            "Epoch 6/100\n",
            "60000/60000 [==============================] - 4s 68us/sample - loss: 0.2774 - acc: 0.8977\n",
            "Epoch 7/100\n",
            "60000/60000 [==============================] - 4s 66us/sample - loss: 0.2650 - acc: 0.9014\n",
            "Epoch 8/100\n",
            "60000/60000 [==============================] - 4s 67us/sample - loss: 0.2548 - acc: 0.9055\n",
            "Epoch 9/100\n",
            "60000/60000 [==============================] - 4s 64us/sample - loss: 0.2468 - acc: 0.9071\n",
            "Epoch 10/100\n",
            "60000/60000 [==============================] - 4s 67us/sample - loss: 0.2371 - acc: 0.9114\n",
            "Epoch 11/100\n",
            "60000/60000 [==============================] - 4s 65us/sample - loss: 0.2276 - acc: 0.9144\n",
            "Epoch 12/100\n",
            "60000/60000 [==============================] - 4s 64us/sample - loss: 0.2217 - acc: 0.9171\n",
            "Epoch 13/100\n",
            "60000/60000 [==============================] - 4s 67us/sample - loss: 0.2148 - acc: 0.9193\n",
            "Epoch 14/100\n",
            "60000/60000 [==============================] - 4s 64us/sample - loss: 0.2073 - acc: 0.9230\n",
            "Epoch 15/100\n",
            "60000/60000 [==============================] - 4s 64us/sample - loss: 0.2012 - acc: 0.9240\n",
            "Epoch 16/100\n",
            "60000/60000 [==============================] - 4s 67us/sample - loss: 0.1967 - acc: 0.9271\n",
            "Epoch 17/100\n",
            "60000/60000 [==============================] - 4s 64us/sample - loss: 0.1901 - acc: 0.9282\n",
            "Epoch 18/100\n",
            "60000/60000 [==============================] - 4s 67us/sample - loss: 0.1864 - acc: 0.9312\n",
            "Epoch 19/100\n",
            "60000/60000 [==============================] - 4s 64us/sample - loss: 0.1826 - acc: 0.9319\n",
            "Epoch 20/100\n",
            "60000/60000 [==============================] - 4s 67us/sample - loss: 0.1772 - acc: 0.9331\n",
            "Epoch 21/100\n",
            "60000/60000 [==============================] - 4s 65us/sample - loss: 0.1743 - acc: 0.9338\n",
            "Epoch 22/100\n",
            "60000/60000 [==============================] - 4s 65us/sample - loss: 0.1671 - acc: 0.9360\n",
            "Epoch 23/100\n",
            "60000/60000 [==============================] - 4s 64us/sample - loss: 0.1649 - acc: 0.9381\n",
            "Epoch 24/100\n",
            "60000/60000 [==============================] - 4s 67us/sample - loss: 0.1612 - acc: 0.9391\n",
            "Epoch 25/100\n",
            "60000/60000 [==============================] - 4s 63us/sample - loss: 0.1563 - acc: 0.9407\n",
            "Epoch 26/100\n",
            "60000/60000 [==============================] - 4s 64us/sample - loss: 0.1519 - acc: 0.9414\n",
            "Epoch 27/100\n",
            "60000/60000 [==============================] - 4s 67us/sample - loss: 0.1494 - acc: 0.9441\n",
            "Epoch 28/100\n",
            "60000/60000 [==============================] - 4s 64us/sample - loss: 0.1452 - acc: 0.9449\n",
            "Epoch 29/100\n",
            "60000/60000 [==============================] - 4s 68us/sample - loss: 0.1448 - acc: 0.9458\n",
            "Epoch 30/100\n",
            "60000/60000 [==============================] - 4s 64us/sample - loss: 0.1399 - acc: 0.9481\n",
            "Epoch 31/100\n",
            "60000/60000 [==============================] - 4s 70us/sample - loss: 0.1384 - acc: 0.9480\n",
            "Epoch 32/100\n",
            "60000/60000 [==============================] - 4s 68us/sample - loss: 0.1338 - acc: 0.9501\n",
            "Epoch 33/100\n",
            "60000/60000 [==============================] - 4s 66us/sample - loss: 0.1292 - acc: 0.9518\n",
            "Epoch 34/100\n",
            "60000/60000 [==============================] - 4s 64us/sample - loss: 0.1300 - acc: 0.9514\n",
            "Epoch 35/100\n",
            "60000/60000 [==============================] - 4s 64us/sample - loss: 0.1263 - acc: 0.9524\n",
            "Epoch 36/100\n",
            "60000/60000 [==============================] - 4s 64us/sample - loss: 0.1250 - acc: 0.9534\n",
            "Epoch 37/100\n",
            "60000/60000 [==============================] - 4s 70us/sample - loss: 0.1209 - acc: 0.9549\n",
            "Epoch 38/100\n",
            "60000/60000 [==============================] - 4s 65us/sample - loss: 0.1201 - acc: 0.9546\n",
            "Epoch 39/100\n",
            "60000/60000 [==============================] - 4s 68us/sample - loss: 0.1187 - acc: 0.9555\n",
            "Epoch 40/100\n",
            "60000/60000 [==============================] - 4s 68us/sample - loss: 0.1160 - acc: 0.9569\n",
            "Epoch 41/100\n",
            "60000/60000 [==============================] - 4s 65us/sample - loss: 0.1127 - acc: 0.9573\n",
            "Epoch 42/100\n",
            "60000/60000 [==============================] - 4s 64us/sample - loss: 0.1125 - acc: 0.9571\n",
            "Epoch 43/100\n",
            "60000/60000 [==============================] - 4s 64us/sample - loss: 0.1105 - acc: 0.9585\n",
            "Epoch 44/100\n",
            "60000/60000 [==============================] - 4s 65us/sample - loss: 0.1089 - acc: 0.9594\n",
            "Epoch 45/100\n",
            "60000/60000 [==============================] - 4s 64us/sample - loss: 0.1050 - acc: 0.9596\n",
            "Epoch 46/100\n",
            "60000/60000 [==============================] - 4s 64us/sample - loss: 0.1070 - acc: 0.9599\n",
            "Epoch 47/100\n",
            "60000/60000 [==============================] - 4s 64us/sample - loss: 0.1029 - acc: 0.9612\n",
            "Epoch 48/100\n",
            "60000/60000 [==============================] - 4s 65us/sample - loss: 0.1000 - acc: 0.9623\n",
            "Epoch 49/100\n",
            "60000/60000 [==============================] - 4s 64us/sample - loss: 0.1003 - acc: 0.9625\n",
            "Epoch 50/100\n",
            "60000/60000 [==============================] - 4s 66us/sample - loss: 0.0971 - acc: 0.9634\n",
            "Epoch 51/100\n",
            "60000/60000 [==============================] - 4s 64us/sample - loss: 0.0995 - acc: 0.9620\n",
            "Epoch 52/100\n",
            "60000/60000 [==============================] - 4s 66us/sample - loss: 0.0954 - acc: 0.9642\n",
            "Epoch 53/100\n",
            "60000/60000 [==============================] - 4s 63us/sample - loss: 0.0930 - acc: 0.9648\n",
            "Epoch 54/100\n",
            "60000/60000 [==============================] - 4s 66us/sample - loss: 0.0886 - acc: 0.9670\n",
            "Epoch 55/100\n",
            "60000/60000 [==============================] - 4s 66us/sample - loss: 0.0916 - acc: 0.9659\n",
            "Epoch 56/100\n",
            "60000/60000 [==============================] - 4s 64us/sample - loss: 0.0894 - acc: 0.9667\n",
            "Epoch 57/100\n",
            "60000/60000 [==============================] - 4s 66us/sample - loss: 0.0861 - acc: 0.9677\n",
            "Epoch 58/100\n",
            "60000/60000 [==============================] - 4s 64us/sample - loss: 0.0880 - acc: 0.9668\n",
            "Epoch 59/100\n",
            "60000/60000 [==============================] - 4s 67us/sample - loss: 0.0854 - acc: 0.9679\n",
            "Epoch 60/100\n",
            "60000/60000 [==============================] - 4s 64us/sample - loss: 0.0860 - acc: 0.9672\n",
            "Epoch 61/100\n",
            "60000/60000 [==============================] - 4s 66us/sample - loss: 0.0806 - acc: 0.9693\n",
            "Epoch 62/100\n",
            "60000/60000 [==============================] - 4s 65us/sample - loss: 0.0827 - acc: 0.9690\n",
            "Epoch 63/100\n",
            "60000/60000 [==============================] - 4s 67us/sample - loss: 0.0830 - acc: 0.9693\n",
            "Epoch 64/100\n",
            "60000/60000 [==============================] - 4s 65us/sample - loss: 0.0789 - acc: 0.9703\n",
            "Epoch 65/100\n",
            "60000/60000 [==============================] - 4s 67us/sample - loss: 0.0766 - acc: 0.9710\n",
            "Epoch 66/100\n",
            "60000/60000 [==============================] - 4s 64us/sample - loss: 0.0759 - acc: 0.9720\n",
            "Epoch 67/100\n",
            "60000/60000 [==============================] - 4s 67us/sample - loss: 0.0778 - acc: 0.9701\n",
            "Epoch 68/100\n",
            "60000/60000 [==============================] - 4s 64us/sample - loss: 0.0714 - acc: 0.9733\n",
            "Epoch 69/100\n",
            "60000/60000 [==============================] - 4s 67us/sample - loss: 0.0758 - acc: 0.9713\n",
            "Epoch 70/100\n",
            "60000/60000 [==============================] - 4s 65us/sample - loss: 0.0726 - acc: 0.9725\n",
            "Epoch 71/100\n",
            "60000/60000 [==============================] - 4s 66us/sample - loss: 0.0751 - acc: 0.9712\n",
            "Epoch 72/100\n",
            "60000/60000 [==============================] - 4s 64us/sample - loss: 0.0701 - acc: 0.9733\n",
            "Epoch 73/100\n",
            "60000/60000 [==============================] - 4s 67us/sample - loss: 0.0723 - acc: 0.9722\n",
            "Epoch 74/100\n",
            "60000/60000 [==============================] - 4s 64us/sample - loss: 0.0680 - acc: 0.9738\n",
            "Epoch 75/100\n",
            "60000/60000 [==============================] - 4s 67us/sample - loss: 0.0690 - acc: 0.9742\n",
            "Epoch 76/100\n",
            "60000/60000 [==============================] - 4s 64us/sample - loss: 0.0694 - acc: 0.9736\n",
            "Epoch 77/100\n",
            "60000/60000 [==============================] - 4s 67us/sample - loss: 0.0669 - acc: 0.9749\n",
            "Epoch 78/100\n",
            "60000/60000 [==============================] - 4s 65us/sample - loss: 0.0676 - acc: 0.9748\n",
            "Epoch 79/100\n",
            "60000/60000 [==============================] - 4s 64us/sample - loss: 0.0665 - acc: 0.9752\n",
            "Epoch 80/100\n",
            "60000/60000 [==============================] - 4s 66us/sample - loss: 0.0662 - acc: 0.9751\n",
            "Epoch 81/100\n",
            "60000/60000 [==============================] - 4s 64us/sample - loss: 0.0628 - acc: 0.9771\n",
            "Epoch 82/100\n",
            "60000/60000 [==============================] - 4s 66us/sample - loss: 0.0646 - acc: 0.9768\n",
            "Epoch 83/100\n",
            "60000/60000 [==============================] - 4s 63us/sample - loss: 0.0627 - acc: 0.9763\n",
            "Epoch 84/100\n",
            "60000/60000 [==============================] - 4s 66us/sample - loss: 0.0631 - acc: 0.9763\n",
            "Epoch 85/100\n",
            "60000/60000 [==============================] - 4s 64us/sample - loss: 0.0632 - acc: 0.9762\n",
            "Epoch 86/100\n",
            "60000/60000 [==============================] - 4s 64us/sample - loss: 0.0616 - acc: 0.9772\n",
            "Epoch 87/100\n",
            "60000/60000 [==============================] - 4s 67us/sample - loss: 0.0572 - acc: 0.9786\n",
            "Epoch 88/100\n",
            "60000/60000 [==============================] - 4s 64us/sample - loss: 0.0622 - acc: 0.9765\n",
            "Epoch 89/100\n",
            "60000/60000 [==============================] - 4s 66us/sample - loss: 0.0576 - acc: 0.9790\n",
            "Epoch 90/100\n",
            "60000/60000 [==============================] - 4s 64us/sample - loss: 0.0603 - acc: 0.9775\n",
            "Epoch 91/100\n",
            "60000/60000 [==============================] - 4s 66us/sample - loss: 0.0557 - acc: 0.9788\n",
            "Epoch 92/100\n",
            "60000/60000 [==============================] - 4s 64us/sample - loss: 0.0574 - acc: 0.9784\n",
            "Epoch 93/100\n",
            "60000/60000 [==============================] - 4s 66us/sample - loss: 0.0571 - acc: 0.9783\n",
            "Epoch 94/100\n",
            "60000/60000 [==============================] - 4s 64us/sample - loss: 0.0555 - acc: 0.9789\n",
            "Epoch 95/100\n",
            "60000/60000 [==============================] - 4s 64us/sample - loss: 0.0547 - acc: 0.9793\n",
            "Epoch 96/100\n",
            "60000/60000 [==============================] - 4s 66us/sample - loss: 0.0548 - acc: 0.9802\n",
            "Epoch 97/100\n",
            "60000/60000 [==============================] - 4s 64us/sample - loss: 0.0573 - acc: 0.9783\n",
            "Epoch 98/100\n",
            "60000/60000 [==============================] - 4s 66us/sample - loss: 0.0528 - acc: 0.9797\n",
            "Epoch 99/100\n",
            "60000/60000 [==============================] - 4s 64us/sample - loss: 0.0531 - acc: 0.9803\n",
            "Epoch 100/100\n",
            "60000/60000 [==============================] - 4s 66us/sample - loss: 0.0534 - acc: 0.9805\n"
          ],
          "name": "stdout"
        },
        {
          "output_type": "execute_result",
          "data": {
            "text/plain": [
              "<tensorflow.python.keras.callbacks.History at 0x7f0ce0f7f9e8>"
            ]
          },
          "metadata": {
            "tags": []
          },
          "execution_count": 11
        }
      ]
    },
    {
      "cell_type": "markdown",
      "metadata": {
        "id": "-JJMsvSB-1UY",
        "colab_type": "text"
      },
      "source": [
        "Once it's done training -- you should see an accuracy value at the end of the final epoch. It might look something like 0.9098. This tells you that your neural network is about 91% accurate in classifying the training data. I.E., it figured out a pattern match between the image and the labels that worked 91% of the time. Not great, but not bad considering it was only trained for 5 epochs and done quite quickly.\n",
        "\n",
        "But how would it work with unseen data? That's why we have the test images. We can call model.evaluate, and pass in the two sets, and it will report back the loss for each. Let's give it a try:"
      ]
    },
    {
      "cell_type": "code",
      "metadata": {
        "id": "WzlqsEzX9s5P",
        "colab_type": "code",
        "outputId": "3c29b834-4a3a-41df-b2a8-bdf4d31de065",
        "colab": {
          "base_uri": "https://localhost:8080/",
          "height": 50
        }
      },
      "source": [
        "model.evaluate(test_images, test_labels)"
      ],
      "execution_count": 12,
      "outputs": [
        {
          "output_type": "stream",
          "text": [
            "10000/10000 [==============================] - 0s 34us/sample - loss: 0.7883 - acc: 0.8839\n"
          ],
          "name": "stdout"
        },
        {
          "output_type": "execute_result",
          "data": {
            "text/plain": [
              "[0.7882747016996146, 0.8839]"
            ]
          },
          "metadata": {
            "tags": []
          },
          "execution_count": 12
        }
      ]
    },
    {
      "cell_type": "markdown",
      "metadata": {
        "id": "6tki-Aro_Uax",
        "colab_type": "text"
      },
      "source": [
        "For me, that returned a accuracy of about .8838, which means it was about 88% accurate. As expected it probably would not do as well with *unseen* data as it did with data it was trained on!  As you go through this course, you'll look at ways to improve this. \n",
        "\n",
        "To explore further, try the below exercises:\n"
      ]
    },
    {
      "cell_type": "markdown",
      "metadata": {
        "id": "htldZNWcIPSN",
        "colab_type": "text"
      },
      "source": [
        "# Exploration Exercises"
      ]
    },
    {
      "cell_type": "markdown",
      "metadata": {
        "id": "rquQqIx4AaGR",
        "colab_type": "text"
      },
      "source": [
        "###Exercise 1:\n",
        "For this first exercise run the below code: It creates a set of classifications for each of the test images, and then prints the first entry in the classifications. The output, after you run it is a list of numbers. Why do you think this is, and what do those numbers represent? "
      ]
    },
    {
      "cell_type": "code",
      "metadata": {
        "id": "RyEIki0z_hAD",
        "colab_type": "code",
        "colab": {
          "base_uri": "https://localhost:8080/",
          "height": 50
        },
        "outputId": "1aa2c787-1324-4eb9-df70-29ff925688a7"
      },
      "source": [
        "classifications = model.predict(test_images)\n",
        "\n",
        "print(classifications[0])"
      ],
      "execution_count": 13,
      "outputs": [
        {
          "output_type": "stream",
          "text": [
            "[1.0780963e-35 9.7135673e-26 4.5445096e-38 1.4878361e-32 0.0000000e+00\n",
            " 2.9405277e-14 1.2105177e-37 1.1525633e-12 3.5660884e-30 1.0000000e+00]\n"
          ],
          "name": "stdout"
        }
      ]
    },
    {
      "cell_type": "markdown",
      "metadata": {
        "id": "MdzqbQhRArzm",
        "colab_type": "text"
      },
      "source": [
        "Hint: try running print(test_labels[0]) -- and you'll get a 9. Does that help you understand why this list looks the way it does? "
      ]
    },
    {
      "cell_type": "code",
      "metadata": {
        "id": "WnBGOrMiA1n5",
        "colab_type": "code",
        "colab": {
          "base_uri": "https://localhost:8080/",
          "height": 34
        },
        "outputId": "35240c42-0985-4c70-8ba5-23b59ea3bf61"
      },
      "source": [
        "print(test_labels[0])"
      ],
      "execution_count": 14,
      "outputs": [
        {
          "output_type": "stream",
          "text": [
            "9\n"
          ],
          "name": "stdout"
        }
      ]
    },
    {
      "cell_type": "markdown",
      "metadata": {
        "id": "uUs7eqr7uSvs",
        "colab_type": "text"
      },
      "source": [
        "### What does this list represent?\n",
        "\n",
        "\n",
        "1.   It's 10 random meaningless values\n",
        "2.   It's the first 10 classifications that the computer made\n",
        "3.   It's the probability that this item is each of the 10 classes\n",
        "\n"
      ]
    },
    {
      "cell_type": "markdown",
      "metadata": {
        "id": "wAbr92RTA67u",
        "colab_type": "text"
      },
      "source": [
        "####Answer: \n",
        "The correct answer is (3)\n",
        "\n",
        "The output of the model is a list of 10 numbers. These numbers are a probability that the value being classified is the corresponding value, i.e. the first value in the list is the probability that the handwriting is of a '0', the next is a '1' etc. Notice that they are all VERY LOW probabilities.\n",
        "\n",
        "For the 7, the probability was .999+, i.e. the neural network is telling us that it's almost certainly a 7."
      ]
    },
    {
      "cell_type": "markdown",
      "metadata": {
        "id": "CD4kC6TBu-69",
        "colab_type": "text"
      },
      "source": [
        "### How do you know that this list tells you that the item is an ankle boot?\n",
        "\n",
        "\n",
        "1.   There's not enough information to answer that question\n",
        "2.   The 10th element on the list is the biggest, and the ankle boot is labelled 9\n",
        "2.   The ankle boot is label 9, and there are 0->9 elements in the list\n",
        "\n",
        "\n"
      ]
    },
    {
      "cell_type": "markdown",
      "metadata": {
        "id": "I-haLncrva5L",
        "colab_type": "text"
      },
      "source": [
        "####Answer\n",
        "The correct answer is (2). Both the list and the labels are 0 based, so the ankle boot having label 9 means that it is the 10th of the 10 classes. The list having the 10th element being the highest value means that the Neural Network has predicted that the item it is classifying is most likely an ankle boot"
      ]
    },
    {
      "cell_type": "markdown",
      "metadata": {
        "id": "OgQSIfDSOWv6",
        "colab_type": "text"
      },
      "source": [
        "##Exercise 2: \n",
        "Let's now look at the layers in your model. Experiment with different values for the dense layer with 512 neurons. What different results do you get for loss, training time etc? Why do you think that's the case? \n",
        "\n"
      ]
    },
    {
      "cell_type": "code",
      "metadata": {
        "id": "GSZSwV5UObQP",
        "colab_type": "code",
        "colab": {}
      },
      "source": [
        "import tensorflow as tf\n",
        "print(tf.__version__)\n",
        "\n",
        "mnist = tf.keras.datasets.mnist\n",
        "\n",
        "(training_images, training_labels) ,  (test_images, test_labels) = mnist.load_data()\n",
        "\n",
        "training_images = training_images/255.0\n",
        "test_images = test_images/255.0\n",
        "\n",
        "model = tf.keras.models.Sequential([tf.keras.layers.Flatten(),\n",
        "                                    tf.keras.layers.Dense(1024, activation=tf.nn.relu),\n",
        "                                    tf.keras.layers.Dense(10, activation=tf.nn.softmax)])\n",
        "\n",
        "model.compile(optimizer = 'adam',\n",
        "              loss = 'sparse_categorical_crossentropy')\n",
        "\n",
        "model.fit(training_images, training_labels, epochs=5)\n",
        "\n",
        "model.evaluate(test_images, test_labels)\n",
        "\n",
        "classifications = model.predict(test_images)\n",
        "\n",
        "print(classifications[0])\n",
        "print(test_labels[0])"
      ],
      "execution_count": 0,
      "outputs": []
    },
    {
      "cell_type": "markdown",
      "metadata": {
        "id": "bOOEnHZFv5cS",
        "colab_type": "text"
      },
      "source": [
        "###Question 1. Increase to 1024 Neurons -- What's the impact?\n",
        "\n",
        "1. Training takes longer, but is more accurate\n",
        "2. Training takes longer, but no impact on accuracy\n",
        "3. Training takes the same time, but is more accurate\n"
      ]
    },
    {
      "cell_type": "markdown",
      "metadata": {
        "id": "U73MUP2lwrI2",
        "colab_type": "text"
      },
      "source": [
        "####Answer\n",
        "The correct answer is (1) by adding more Neurons we have to do more calculations, slowing down the process, but in this case they have a good impact -- we do get more accurate. That doesn't mean it's always a case of 'more is better', you can hit the law of diminishing returns very quickly!"
      ]
    },
    {
      "cell_type": "markdown",
      "metadata": {
        "id": "WtWxK16hQxLN",
        "colab_type": "text"
      },
      "source": [
        "##Exercise 3: \n",
        "\n",
        "What would happen if you remove the Flatten() layer. Why do you think that's the case? \n",
        "\n",
        "You get an error about the shape of the data. It may seem vague right now, but it reinforces the rule of thumb that the first layer in your network should be the same shape as your data. Right now our data is 28x28 images, and 28 layers of 28 neurons would be infeasible, so it makes more sense to 'flatten' that 28,28 into a 784x1. Instead of wriitng all the code to handle that ourselves, we add the Flatten() layer at the begining, and when the arrays are loaded into the model later, they'll automatically be flattened for us."
      ]
    },
    {
      "cell_type": "code",
      "metadata": {
        "id": "ExNxCwhcQ18S",
        "colab_type": "code",
        "colab": {}
      },
      "source": [
        "import tensorflow as tf\n",
        "print(tf.__version__)\n",
        "\n",
        "mnist = tf.keras.datasets.mnist\n",
        "\n",
        "(training_images, training_labels) ,  (test_images, test_labels) = mnist.load_data()\n",
        "\n",
        "training_images = training_images/255.0\n",
        "test_images = test_images/255.0\n",
        "\n",
        "model = tf.keras.models.Sequential([#tf.keras.layers.Flatten(),\n",
        "                                    tf.keras.layers.Dense(64, activation=tf.nn.relu),\n",
        "                                    tf.keras.layers.Dense(10, activation=tf.nn.softmax)])\n",
        "\n",
        "model.compile(optimizer = 'adam',\n",
        "              loss = 'sparse_categorical_crossentropy')\n",
        "\n",
        "model.fit(training_images, training_labels, epochs=5)\n",
        "\n",
        "model.evaluate(test_images, test_labels)\n",
        "\n",
        "classifications = model.predict(test_images)\n",
        "\n",
        "print(classifications[0])\n",
        "print(test_labels[0])"
      ],
      "execution_count": 0,
      "outputs": []
    },
    {
      "cell_type": "markdown",
      "metadata": {
        "id": "VqoCR-ieSGDg",
        "colab_type": "text"
      },
      "source": [
        "##Exercise 4: \n",
        "\n",
        "Consider the final (output) layers. Why are there 10 of them? What would happen if you had a different amount than 10? For example, try training the network with 5\n",
        "\n",
        "You get an error as soon as it finds an unexpected value. Another rule of thumb -- the number of neurons in the last layer should match the number of classes you are classifying for. In this case it's the digits 0-9, so there are 10 of them, hence you should have 10 neurons in your final layer."
      ]
    },
    {
      "cell_type": "code",
      "metadata": {
        "id": "MMckVntcSPvo",
        "colab_type": "code",
        "colab": {}
      },
      "source": [
        "import tensorflow as tf\n",
        "print(tf.__version__)\n",
        "\n",
        "mnist = tf.keras.datasets.mnist\n",
        "\n",
        "(training_images, training_labels) ,  (test_images, test_labels) = mnist.load_data()\n",
        "\n",
        "training_images = training_images/255.0\n",
        "test_images = test_images/255.0\n",
        "\n",
        "model = tf.keras.models.Sequential([tf.keras.layers.Flatten(),\n",
        "                                    tf.keras.layers.Dense(64, activation=tf.nn.relu),\n",
        "                                    tf.keras.layers.Dense(5, activation=tf.nn.softmax)])\n",
        "\n",
        "model.compile(optimizer = 'adam',\n",
        "              loss = 'sparse_categorical_crossentropy')\n",
        "\n",
        "model.fit(training_images, training_labels, epochs=5)\n",
        "\n",
        "model.evaluate(test_images, test_labels)\n",
        "\n",
        "classifications = model.predict(test_images)\n",
        "\n",
        "print(classifications[0])\n",
        "print(test_labels[0])"
      ],
      "execution_count": 0,
      "outputs": []
    },
    {
      "cell_type": "markdown",
      "metadata": {
        "id": "-0lF5MuvSuZF",
        "colab_type": "text"
      },
      "source": [
        "##Exercise 5: \n",
        "\n",
        "Consider the effects of additional layers in the network. What will happen if you add another layer between the one with 512 and the final layer with 10. \n",
        "\n",
        "Ans: There isn't a significant impact -- because this is relatively simple data. For far more complex data (including color images to be classified as flowers that you'll see in the next lesson), extra layers are often necessary. "
      ]
    },
    {
      "cell_type": "code",
      "metadata": {
        "id": "b1YPa6UhS8Es",
        "colab_type": "code",
        "colab": {}
      },
      "source": [
        "import tensorflow as tf\n",
        "print(tf.__version__)\n",
        "\n",
        "mnist = tf.keras.datasets.mnist\n",
        "\n",
        "(training_images, training_labels) ,  (test_images, test_labels) = mnist.load_data()\n",
        "\n",
        "training_images = training_images/255.0\n",
        "test_images = test_images/255.0\n",
        "\n",
        "model = tf.keras.models.Sequential([tf.keras.layers.Flatten(),\n",
        "                                    tf.keras.layers.Dense(512, activation=tf.nn.relu),\n",
        "                                    tf.keras.layers.Dense(256, activation=tf.nn.relu),\n",
        "                                    tf.keras.layers.Dense(10, activation=tf.nn.softmax)])\n",
        "\n",
        "model.compile(optimizer = 'adam',\n",
        "              loss = 'sparse_categorical_crossentropy')\n",
        "\n",
        "model.fit(training_images, training_labels, epochs=5)\n",
        "\n",
        "model.evaluate(test_images, test_labels)\n",
        "\n",
        "classifications = model.predict(test_images)\n",
        "\n",
        "print(classifications[0])\n",
        "print(test_labels[0])"
      ],
      "execution_count": 0,
      "outputs": []
    },
    {
      "cell_type": "code",
      "metadata": {
        "id": "sE7PDe6LWAHb",
        "colab_type": "code",
        "colab": {}
      },
      "source": [
        ""
      ],
      "execution_count": 0,
      "outputs": []
    },
    {
      "cell_type": "markdown",
      "metadata": {
        "id": "Bql9fyaNUSFy",
        "colab_type": "text"
      },
      "source": [
        "#Exercise 6: \n",
        "\n",
        "Consider the impact of training for more or less epochs. Why do you think that would be the case? \n",
        "\n",
        "Try 15 epochs -- you'll probably get a model with a much better loss than the one with 5\n",
        "Try 30 epochs -- you might see the loss value stops decreasing, and sometimes increases. This is a side effect of something called 'overfitting' which you can learn about [somewhere] and it's something you need to keep an eye out for when training neural networks. There's no point in wasting your time training if you aren't improving your loss, right! :)"
      ]
    },
    {
      "cell_type": "code",
      "metadata": {
        "id": "uE3esj9BURQe",
        "colab_type": "code",
        "colab": {}
      },
      "source": [
        "import tensorflow as tf\n",
        "print(tf.__version__)\n",
        "\n",
        "mnist = tf.keras.datasets.mnist\n",
        "\n",
        "(training_images, training_labels) ,  (test_images, test_labels) = mnist.load_data()\n",
        "\n",
        "training_images = training_images/255.0\n",
        "test_images = test_images/255.0\n",
        "\n",
        "model = tf.keras.models.Sequential([tf.keras.layers.Flatten(),\n",
        "                                    tf.keras.layers.Dense(128, activation=tf.nn.relu),\n",
        "                                    tf.keras.layers.Dense(10, activation=tf.nn.softmax)])\n",
        "\n",
        "model.compile(optimizer = 'adam',\n",
        "              loss = 'sparse_categorical_crossentropy')\n",
        "\n",
        "model.fit(training_images, training_labels, epochs=30)\n",
        "\n",
        "model.evaluate(test_images, test_labels)\n",
        "\n",
        "classifications = model.predict(test_images)\n",
        "\n",
        "print(classifications[34])\n",
        "print(test_labels[34])"
      ],
      "execution_count": 0,
      "outputs": []
    },
    {
      "cell_type": "markdown",
      "metadata": {
        "id": "HS3vVkOgCDGZ",
        "colab_type": "text"
      },
      "source": [
        "#Exercise 7: \n",
        "\n",
        "Before you trained, you normalized the data, going from values that were 0-255 to values that were 0-1. What would be the impact of removing that? Here's the complete code to give it a try. Why do you think you get different results? "
      ]
    },
    {
      "cell_type": "code",
      "metadata": {
        "id": "JDqNAqrpCNg0",
        "colab_type": "code",
        "colab": {}
      },
      "source": [
        "import tensorflow as tf\n",
        "print(tf.__version__)\n",
        "mnist = tf.keras.datasets.mnist\n",
        "(training_images, training_labels), (test_images, test_labels) = mnist.load_data()\n",
        "training_images=training_images/255.0\n",
        "test_images=test_images/255.0\n",
        "model = tf.keras.models.Sequential([\n",
        "  tf.keras.layers.Flatten(),\n",
        "  tf.keras.layers.Dense(512, activation=tf.nn.relu),\n",
        "  tf.keras.layers.Dense(10, activation=tf.nn.softmax)\n",
        "])\n",
        "model.compile(optimizer='adam', loss='sparse_categorical_crossentropy')\n",
        "model.fit(training_images, training_labels, epochs=5)\n",
        "model.evaluate(test_images, test_labels)\n",
        "classifications = model.predict(test_images)\n",
        "print(classifications[0])\n",
        "print(test_labels[0])"
      ],
      "execution_count": 0,
      "outputs": []
    },
    {
      "cell_type": "markdown",
      "metadata": {
        "id": "E7W2PT66ZBHQ",
        "colab_type": "text"
      },
      "source": [
        "#Exercise 8: \n",
        "\n",
        "Earlier when you trained for extra epochs you had an issue where your loss might change. It might have taken a bit of time for you to wait for the training to do that, and you might have thought 'wouldn't it be nice if I could stop the training when I reach a desired value?' -- i.e. 95% accuracy might be enough for you, and if you reach that after 3 epochs, why sit around waiting for it to finish a lot more epochs....So how would you fix that? Like any other program...you have callbacks! Let's see them in action..."
      ]
    },
    {
      "cell_type": "code",
      "metadata": {
        "id": "pkaEHHgqZbYv",
        "colab_type": "code",
        "colab": {}
      },
      "source": [
        "import tensorflow as tf\n",
        "print(tf.__version__)\n",
        "\n",
        "class myCallback(tf.keras.callbacks.Callback):\n",
        "  def on_epoch_end(self, epoch, logs={}):\n",
        "    if(logs.get('loss')<0.4):\n",
        "      print(\"\\nReached 60% accuracy so cancelling training!\")\n",
        "      self.model.stop_training = True\n",
        "\n",
        "callbacks = myCallback()\n",
        "mnist = tf.keras.datasets.fashion_mnist\n",
        "(training_images, training_labels), (test_images, test_labels) = mnist.load_data()\n",
        "training_images=training_images/255.0\n",
        "test_images=test_images/255.0\n",
        "model = tf.keras.models.Sequential([\n",
        "  tf.keras.layers.Flatten(),\n",
        "  tf.keras.layers.Dense(512, activation=tf.nn.relu),\n",
        "  tf.keras.layers.Dense(10, activation=tf.nn.softmax)\n",
        "])\n",
        "model.compile(optimizer='adam', loss='sparse_categorical_crossentropy')\n",
        "model.fit(training_images, training_labels, epochs=5, callbacks=[callbacks])\n",
        "\n",
        "\n"
      ],
      "execution_count": 0,
      "outputs": []
    }
  ]
}